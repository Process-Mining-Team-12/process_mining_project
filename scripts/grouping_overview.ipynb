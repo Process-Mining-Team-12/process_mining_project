{
 "cells": [
  {
   "cell_type": "markdown",
   "id": "a1283282",
   "metadata": {},
   "source": [
    "### Some thoughts on the categories\n",
    "- Group 1. - Tests -  I think it makes perfect sense to not group 'LAB. ANALISI' with anything, since it is already taking up almost 90% of the db.  \n",
    "- Group 2. - Radiology - Same for Radiology, it's like 10% of the db and has good coverage on its own, could be possibly grouped with 'U.O.S.D. NEURORADIOLOGIA': 'NEURO_IMAGING' if we decide we want it that way\n",
    "- Group 3. - Specialty diagnostics - basically grouping things that end in ambulatori BUT also its the group that holds all the specializations \n",
    "- Group 4. - Surgery & resuscitation - no idea what 'REPARTO AMBULATORIALE CH.MAX.ODONTOST.' is\n",
    "- Group 5. - Oncology - self explanatory\n",
    "- Group 6. - Followup"
   ]
  },
  {
   "cell_type": "code",
   "execution_count": null,
   "id": "7920bb73",
   "metadata": {},
   "outputs": [],
   "source": [
    "category_mapping = {\n",
    "    # 1. Tests\n",
    "    'LAB. ANALISI': 'TEST / HIGH_VOLUME_LAB',\n",
    "\n",
    "    # 2 Radiology\n",
    "    'RADIOLOGIA': 'IMAGING / RADIOLOGY_DEPT',\n",
    "    'U.O.S.D. NEURORADIOLOGIA': 'NEURO_IMAGING',\n",
    "\n",
    "    # 3. Specialty Diagnostic/Interventional (Groups often ending in - AMBULATORIO)\n",
    "    'NEUROCHIRURGIA - AMBULATORIO': 'NEUROSURGERY',\n",
    "    'GASTROENTEROLOGIA - AMBULATORIO': 'GASTROENTEROLOGY',\n",
    "    'ORTOPEDIA E TRAUMATOLOGIA - AMBULATORIO': 'ORTHOPEDICS_TRAUMA',\n",
    "    'OTORINOLARINGOIATRIA - AMBULATORIO': 'ENT_OTOLARYNGOLOGY',\n",
    "    'NEFROLOGIA - AMBULATORIO': 'NEPHROLOGY',\n",
    "    'DERMATOLOGIA E MALATTIE VENEREE - AMBULATORIO': 'DERMATOLOGY',\n",
    "    'MEDICINA INTERNA - AMBULATORIO': 'INTERNAL_MEDICINE',\n",
    "    'NEUROLOGIA - AMBULATORIO': 'NEUROLOGY',\n",
    "    'UROLOGIA - AMBULATORIO': 'UROLOGY',\n",
    "    'PNEUMOLOGIA FISIOPATOLOGIA RESPIRATORIA - AMBULATORIO': 'PULMONOLOGY',\n",
    "    'REPARTO AMBULATORIALE ALLERGOLOGIA': 'ALLERGOLOGY_AMB',\n",
    "    \"CARDIOLOGIA D'EMERGENZA CON UTIC - AMBULATORIO\": 'EMERGENCY_CARDIOLOGY_UTIC',\n",
    "    'MALATTIE INFETTIVE E TROPICALI A DIREZIONE UNIVERSITARIA - AMBULATORIO - EROGAZIONE FARMACI PER ESTERNI': 'INFECTIOUS_DISEASES_PHARMACY',\n",
    "\n",
    "    # 4. Surgical/Vascular/Procedural Ambulatory Reparto\n",
    "    'REPARTO AMBULATORIALE CHIRURGIA VASCOLARE': 'VASCULAR_SURGERY_AMB',\n",
    "    'REPARTO AMBULATORIALE CH.MAX.ODONTOST.': 'MAXILLOFACIAL_SURGERY_AMB',\n",
    "    'REPARTO AMBULATORIALE ANESTESIA E RIANIMAZIONE': 'ANESTHESIA_RESUSCITATION_AMB',\n",
    "\n",
    "    # 5. Oncology Focus\n",
    "    'REPARTO AMBULATORIALE ONCOLOGIA': 'ONCOLOGY_GENERAL',\n",
    "    'CHIRURGIA GENERALE ED ONCOLOGICA - AMBULATORIO': 'ONCOLOGY_SURGERY',\n",
    "    'EMATOLOGIA AD INDIRIZZO ONCOLOGICO - AMBULATORIO': 'ONCOLOGY_HEMATOLOGY',\n",
    "\n",
    "    # 6. Follow-Up \n",
    "    'FOLLOW UP DEL PAZIENTE POST ACUTO - AMBULATORIO': 'POST_ACUTE_FOLLOW_UP',\n",
    "}"
   ]
  },
  {
   "cell_type": "markdown",
   "id": "a4ee5079",
   "metadata": {},
   "source": [
    "some changes proposed by medical referees on classification"
   ]
  },
  {
   "cell_type": "code",
   "execution_count": null,
   "id": "f031dcc2",
   "metadata": {},
   "outputs": [],
   "source": [
    "category_mapping = {\n",
    "    # 1. Tests\n",
    "    'LAB. ANALISI': 'TEST / HIGH_VOLUME_LAB',\n",
    "\n",
    "    # 2 Radiology\n",
    "    'RADIOLOGIA': 'IMAGING / RADIOLOGY_DEPT',\n",
    "    'U.O.S.D. NEURORADIOLOGIA': 'NEURO_IMAGING',\n",
    "\n",
    "    # 3 medical -> 3 medical -> treatment and administration of medicines \n",
    "    'GASTROENTEROLOGIA - AMBULATORIO': 'GASTROENTEROLOGY',\n",
    "    'NEFROLOGIA - AMBULATORIO':'NEPHROLOGY',\n",
    "    'DERMATOLOGIA E MALATTIE VENEREE - AMBULATORIO': 'DERMATOLOGY',\n",
    "    'MEDICINA INTERNA - AMBULATORIO': 'INTERNAL_MEDICINE',\n",
    "    'NEUROLOGIA - AMBULATORIO': 'NEUROLOGY',\n",
    "    'PNEUMOLOGIA FISIOPATOLOGIA RESPIRATORIA - AMBULATORIO': 'PULMONOLOGY',\n",
    "    'REPARTO AMBULATORIALE ALLERGOLOGIA': 'ALLERGOLOGY_AMB',\n",
    "    \"CARDIOLOGIA D'EMERGENZA CON UTIC - AMBULATORIO\": 'EMERGENCY_CARDIOLOGY_UTIC'\n",
    "    'MALATTIE INFETTIVE E TROPICALI A DIREZIONE UNIVERSITARIA - AMBULATORIO - EROGAZIONE FARMACI PER ESTERNI': 'INFECTIOUS_DISEASES_PHARMACY',\n",
    "\n",
    "    #4 surgical -> procedures related to surgery,\n",
    "    #given the nature of the emergency room, probably only surgical consultations, which means that our patient will most likely have this procedure linked to their discharge from the relevant medical department, with a small possibility of microsurgery in the ER\n",
    "    'NEUROCHIRURGIA - AMBULATORIO': 'NEUROSURGERY',\n",
    "    'ORTOPEDIA E TRAUMATOLOGIA - AMBULATORIO': 'ORTHOPEDICS_TRAUMA',\n",
    "    'OTORINOLARINGOIATRIA - AMBULATORIO': 'ENT_OTOLARYNGOLOGY',\n",
    "    'UROLOGIA - AMBULATORIO': 'UROLOGY',\n",
    "    'REPARTO AMBULATORIALE CHIRURGIA VASCOLARE': 'VASCULAR_SURGERY_AMB',\n",
    "    'REPARTO AMBULATORIALE CH.MAX.ODONTOST.': 'MAXILLOFACIAL_SURGERY_AMB',\n",
    "\n",
    "    #5 Intensive practices \n",
    "    'REPARTO AMBULATORIALE ANESTESIA E RIANIMAZIONE': 'ANESTHESIA_RESUSCITATION_AMB',\n",
    "\n",
    "    # 6. Oncology Focus  -> management of cancer patients\n",
    "    'REPARTO AMBULATORIALE ONCOLOGIA': 'ONCOLOGY_GENERAL',\n",
    "    'CHIRURGIA GENERALE ED ONCOLOGICA - AMBULATORIO': 'ONCOLOGY_SURGERY',\n",
    "    'EMATOLOGIA AD INDIRIZZO ONCOLOGICO - AMBULATORIO': 'ONCOLOGY_HEMATOLOGY',\n",
    "\n",
    "    # 7. Follow-Up -> post-operative rehabilitation\n",
    "    'FOLLOW UP DEL PAZIENTE POST ACUTO - AMBULATORIO': 'POST_ACUTE_FOLLOW_UP',\n",
    "}"
   ]
  }
 ],
 "metadata": {
  "kernelspec": {
   "display_name": "base",
   "language": "python",
   "name": "python3"
  },
  "language_info": {
   "name": "python",
   "version": "3.11.5"
  }
 },
 "nbformat": 4,
 "nbformat_minor": 5
}
